{
 "cells": [
  {
   "cell_type": "code",
   "execution_count": null,
   "metadata": {},
   "outputs": [],
   "source": [
    "import requests\n",
    "import pandas\n",
    "import re\n",
    "from bs4 import BeautifulSoup\n",
    "import lxml\n",
    "import csv\n",
    "import io\n",
    "data = []\n",
    "myfile = open(\"/Users/kaizer/Desktop/zipcodes.txt\",encoding='utf-8')\n",
    "data1 = myfile.read()\n",
    "myfile.close()\n",
    "data1 = list(data1.splitlines())\n",
    "search_list = []\n",
    "s=1\n",
    "for i in range(len(data1)):\n",
    "    string_name = data1[i] \n",
    "    search_list.append(string_name)"
   ]
  },
  {
   "cell_type": "code",
   "execution_count": null,
   "metadata": {},
   "outputs": [],
   "source": [
    "headers = {'User-Agent': 'Mozilla/5.0 (X11; Linux x86_64) AppleWebKit/537.36 (KHTML, like Gecko) Chrome/42.0.2311.90 Safari/537.36'}\n",
    "for zipcode in search_list:\n",
    "    page_requests =  requests.get(\"https://www.redfin.com/zipcode/\" + zipcode ,headers= headers)\n",
    "    page_content = page_requests.content\n",
    "    page_soup = BeautifulSoup(page_content,\"html5lib\")\n",
    "    if page_soup.find('a',{\"id\":\"download-and-save\" }) !=None:\n",
    "        data = page_soup.find('a',{\"id\":\"download-and-save\" },href =True)['href']\n",
    "        data = \"https://www.redfin.com\" + data\n",
    "        save_data = requests.get(data, headers=headers)\n",
    "        df = pandas.read_csv(io.StringIO(save_data.text))\n",
    "        df.to_csv('redfin_dot_com_data.csv', mode='a', header=False)\n",
    "    print(zipcode, data)"
   ]
  }
 ],
 "metadata": {
  "kernelspec": {
   "display_name": "Python 3",
   "language": "python",
   "name": "python3"
  },
  "language_info": {
   "codemirror_mode": {
    "name": "ipython",
    "version": 3
   },
   "file_extension": ".py",
   "mimetype": "text/x-python",
   "name": "python",
   "nbconvert_exporter": "python",
   "pygments_lexer": "ipython3",
   "version": "3.6.4"
  }
 },
 "nbformat": 4,
 "nbformat_minor": 2
}
