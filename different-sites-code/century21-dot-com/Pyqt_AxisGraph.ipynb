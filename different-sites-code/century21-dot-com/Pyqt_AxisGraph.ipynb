{
 "cells": [
  {
   "cell_type": "code",
   "execution_count": null,
   "metadata": {},
   "outputs": [],
   "source": [
    "from PyQt5 import QtCore,QtGui\n",
    "import pyqtgraph as pg\n",
    "import pymysql\n",
    "import pandas as pd\n",
    "import time\n",
    "from matplotlib import pyplot as plot\n",
    "import numpy as np\n",
    "server = pymysql.connect(host = \"ec2-54-190-28-80.us-west-2.compute.amazonaws.com\",user = \"rem-con\", passwd = \"root\",autocommit=True)\n",
    "cursor = server.cursor()\n",
    "sql = \"USE house_list;\"\n",
    "cursor.execute(sql)\n",
    "sql = '''select street,city from house_info where baths>0 and baths<2 ORDER BY city ASC;'''\n",
    "cursor.execute(sql)\n",
    "result =[]\n",
    "result_table = []\n",
    "result = (cursor.fetchall())\n",
    "for i in range(len(result)):\n",
    "    x = {\"street\": result[i][0],\"city\":result[i][1]}\n",
    "    result_table.append(x)\n",
    "df = pd.DataFrame(result_table)\n",
    "df1 = df.groupby(['city'],as_index=False).count()\n",
    "plot.figure(figsize=(20,20))\n",
    "width = 0.6\n",
    "plot.barh(df1.city,df1.street,width, label ='Number of houses having Bath = 1')\n",
    "for a,b in zip(df1.street,df1.city):\n",
    "    plot.text(a,b, str(a))\n",
    "plot.xlabel('total house in that area')\n",
    "plot.ylabel('cities')\n",
    "plot.legend()\n",
    "plot.savefig('number-of-houses-having-bath-1.png')\n",
    "plot.show()\n",
    "\n",
    "x1= df1.city\n",
    "xdict = dict(enumerate(x1))\n",
    "win = pg.GraphicsWindow()\n",
    "stringaxis = pg.AxisItem(orientation='bottom')\n",
    "stringaxis.setTicks([xdict.items()])\n",
    "plx = win.addPlot(axisItems={'bottom': stringaxis})\n",
    "curve = plx.plot(list(xdict.keys()),df1.street)\n",
    "if __name__ == '__main__':\n",
    "    import sys\n",
    "    if sys.flags.interactive != 1 or not hasattr(QtCore, 'PYQT_VERSION'):\n",
    "        pg.QtGui.QApplication.exec_()"
   ]
  }
 ],
 "metadata": {
  "kernelspec": {
   "display_name": "Python 3",
   "language": "python",
   "name": "python3"
  },
  "language_info": {
   "codemirror_mode": {
    "name": "ipython",
    "version": 3
   },
   "file_extension": ".py",
   "mimetype": "text/x-python",
   "name": "python",
   "nbconvert_exporter": "python",
   "pygments_lexer": "ipython3",
   "version": "3.6.4"
  }
 },
 "nbformat": 4,
 "nbformat_minor": 2
}
