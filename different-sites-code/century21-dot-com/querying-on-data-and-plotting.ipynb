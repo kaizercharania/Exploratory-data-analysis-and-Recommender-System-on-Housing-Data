{
 "cells": [
  {
   "cell_type": "markdown",
   "metadata": {},
   "source": [
    "# Using pymysql to connect to server database\n",
    "    Quering the database and giving output as in Result Table along with the Graphical Representation of the query result"
   ]
  },
  {
   "cell_type": "markdown",
   "metadata": {},
   "source": [
    "    Importing all the required libraries"
   ]
  },
  {
   "cell_type": "code",
   "execution_count": null,
   "metadata": {},
   "outputs": [],
   "source": [
    "import pymysql\n",
    "import pandas as pd\n",
    "import time\n",
    "from matplotlib import pyplot as plot\n",
    "import numpy as np"
   ]
  },
  {
   "cell_type": "markdown",
   "metadata": {},
   "source": [
    "    Connecting to the MYSQL server using pymysql library"
   ]
  },
  {
   "cell_type": "code",
   "execution_count": null,
   "metadata": {},
   "outputs": [],
   "source": [
    "server = pymysql.connect(host = \"ec2-54-190-28-80.us-west-2.compute.amazonaws.com\",user = \"rem-con\", passwd = \"root\",autocommit=True)\n",
    "cursor = server.cursor()\n",
    "print(\"connected\")"
   ]
  },
  {
   "cell_type": "markdown",
   "metadata": {},
   "source": [
    "    Creating database \"house_list\" to store all the values in the table \"house_info\""
   ]
  },
  {
   "cell_type": "code",
   "execution_count": null,
   "metadata": {},
   "outputs": [],
   "source": [
    "sql = \"CREATE DATABASE IF NOT EXISTS house_list;\"\n",
    "cursor.execute(sql)\n",
    "sql = \"USE house_list;\"\n",
    "cursor.execute(sql)\n",
    "sql = '''CREATE TABLE IF NOT EXISTS house_info(id integer not null,\n",
    " dataset varchar(50) not null,area integer,baths integer,beds integer,\n",
    " price integer not null, street varchar(150) not null,city varchar(50) not null,\n",
    " state varchar(20) not null,pincode integer,primary key(id));'''\n",
    "cursor.execute(sql)\n",
    "sql = 'show tables;'\n",
    "cursor.execute(sql)\n",
    "print(cursor.fetchall())"
   ]
  },
  {
   "cell_type": "markdown",
   "metadata": {},
   "source": [
    "    Inserting all content in the table"
   ]
  },
  {
   "cell_type": "code",
   "execution_count": null,
   "metadata": {},
   "outputs": [],
   "source": [
    "\n",
    "df = pd.read_csv(\"/Users/kaizer/Desktop/scraped_century21_data.csv\")\n",
    "df['price'] = df['price'].replace({'\\$': '', ',': '','Ask':0}, regex=True)\n",
    "df['area'] = df['area'].replace({'\\$': '', ',': '','Ask':0}, regex=True)\n",
    "df['street'] = df['street'].replace({'\\$': '', \"'\": '','Ask':0}, regex=True)\n",
    "df[['price']] = df[['price']].astype(int)\n",
    "df[['baths']] = df[['baths']].astype(int)\n",
    "df[['beds']] = df[['beds']].astype(int)\n",
    "df[['pin']] = df[['pin']].astype(int)\n",
    "#print(df.head())\n",
    "time.sleep(5)\n",
    "for i in range(len(df)):\n",
    "    #print(i)\n",
    "    sql = \"INSERT INTO house_info VALUES('{}','{}','{}','{}','{}','{}','{}','{}','{}','{}');\".format(i+1,df['dataset'][i],df['area'][i],df['baths'][i],df['beds'][i],df['price'][i],df['street'][i],df['city'][i],df['state'][i],df['pin'][i])\n",
    "    cursor.execute(sql)\n",
    "    print(sql)"
   ]
  },
  {
   "cell_type": "markdown",
   "metadata": {},
   "source": [
    "    Quering the database to get relevant results of what user needs, giving result table as output along with the   graphical representation"
   ]
  },
  {
   "cell_type": "code",
   "execution_count": null,
   "metadata": {},
   "outputs": [],
   "source": [
    "result =[]\n",
    "result_table = []\n",
    "server = pymysql.connect(host = \"ec2-54-190-28-80.us-west-2.compute.amazonaws.com\",user = \"rem-con\", passwd = \"root\",autocommit=True)\n",
    "cursor = server.cursor()\n",
    "sql = \"USE house_list;\"\n",
    "cursor.execute(sql)\n",
    "sql = '''select street,city from house_info where baths>0 and baths<2 ORDER BY city ASC;'''\n",
    "cursor.execute(sql)\n",
    "result = (cursor.fetchall())\n",
    "for i in range(len(result)):\n",
    "    x = {\"street\": result[i][0],\"city\":result[i][1]}\n",
    "    result_table.append(x)\n",
    "df = pd.DataFrame(result_table)\n",
    "df1 = df.groupby(['city'],as_index=False).count()\n",
    "plot.figure(figsize=(20,20))\n",
    "width = 0.6\n",
    "plot.barh(df1.city,df1.street,width, label ='Number of houses having Bath = 1')\n",
    "for a,b in zip(df1.street,df1.city):\n",
    "    plot.text(a,b, str(a))\n",
    "plot.xlabel('total house in that area')\n",
    "plot.ylabel('cities')\n",
    "plot.legend()\n",
    "plot.savefig('number-of-houses-having-bath-1.png')\n",
    "plot.show()\n"
   ]
  }
 ],
 "metadata": {
  "kernelspec": {
   "display_name": "Python 3",
   "language": "python",
   "name": "python3"
  },
  "language_info": {
   "codemirror_mode": {
    "name": "ipython",
    "version": 3
   },
   "file_extension": ".py",
   "mimetype": "text/x-python",
   "name": "python",
   "nbconvert_exporter": "python",
   "pygments_lexer": "ipython3",
   "version": "3.6.4"
  }
 },
 "nbformat": 4,
 "nbformat_minor": 2
}
